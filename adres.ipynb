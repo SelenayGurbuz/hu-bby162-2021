{
  "nbformat": 4,
  "nbformat_minor": 0,
  "metadata": {
    "colab": {
      "name": "adres.ipynb",
      "provenance": [],
      "authorship_tag": "ABX9TyP9exu501jQyVQePixx9pdd",
      "include_colab_link": true
    },
    "kernelspec": {
      "name": "python3",
      "display_name": "Python 3"
    },
    "language_info": {
      "name": "python"
    }
  },
  "cells": [
    {
      "cell_type": "markdown",
      "metadata": {
        "id": "view-in-github",
        "colab_type": "text"
      },
      "source": [
        "<a href=\"https://colab.research.google.com/github/SelenayGurbuz/hu-bby162-2021/blob/main/adres.ipynb\" target=\"_parent\"><img src=\"https://colab.research.google.com/assets/colab-badge.svg\" alt=\"Open In Colab\"/></a>"
      ]
    },
    {
      "cell_type": "code",
      "metadata": {
        "id": "_XCN1osUXMvP",
        "colab": {
          "base_uri": "https://localhost:8080/"
        },
        "outputId": "7a1da345-80fb-4896-dbca-d184976573cf"
      },
      "source": [
        "'''\n",
        "Google Drive Bağlantısı \n",
        "from google.colab import drive\n",
        "drive.mount('/gdrive')\n",
        "'''\n",
        "\n",
        "dosya = \"/content/drive/MyDrive/Colab Notebooks/HU-BBY162-2021/adres.txt\"\n",
        "\n",
        "f = open(dosya, \"r\") \n",
        "\n",
        "for line in f.readlines():\n",
        "    print(line)\n",
        "\n",
        "f.close()"
      ],
      "execution_count": null,
      "outputs": [
        {
          "output_type": "stream",
          "text": [
            "Selenay Gürbüz  slnygurbuz@gmail.com\n",
            "\n"
          ],
          "name": "stdout"
        }
      ]
    },
    {
      "cell_type": "code",
      "metadata": {
        "colab": {
          "base_uri": "https://localhost:8080/"
        },
        "id": "o9jD0IMGX-So",
        "outputId": "d06b6840-7978-45b6-c08e-0a225faa1032"
      },
      "source": [
        "'''\n",
        "Google Drive Bağlantısı\n",
        "from google.colab import drive\n",
        "drive.mount('/gdrive')\n",
        "'''\n",
        " \n",
        "dosya = \"/content/drive/MyDrive/Colab Notebooks/HU-BBY162-2021/adres.txt\"\n",
        "\n",
        "bilgi = input(\"Eklenecek bilgi: \")\n",
        "\n",
        "f = open(dosya, 'a') # Mevcut veriye ek veri yazılması için parametre: 'a'\n",
        "f.write(bilgi + \"\\n\") # Her yeni verinin bir alt satıra yazdırılması \"test\\n\"\n",
        "\n",
        "f.close()\n",
        "f = open(dosya, \"r\")\n",
        "for line in f.readlines():\n",
        "    print(line)\n",
        "\n",
        "f.close()"
      ],
      "execution_count": null,
      "outputs": [
        {
          "output_type": "stream",
          "text": [
            "Eklenecek bilgi: Selenay Gürbüz  slnygurbuz@gmail.com\n",
            "\n",
            "\n",
            "Selenay Gürbüz  slnygurbuz@gmail.com\n",
            "\n"
          ],
          "name": "stdout"
        }
      ]
    }
  ]
}