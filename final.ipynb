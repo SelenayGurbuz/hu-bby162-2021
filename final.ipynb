{
  "nbformat": 4,
  "nbformat_minor": 0,
  "metadata": {
    "colab": {
      "name": "final.ipynb",
      "provenance": [],
      "collapsed_sections": [],
      "mount_file_id": "111KluCXd7E2KetyhzYdc91V7oattAyq6",
      "authorship_tag": "ABX9TyPHi6shEoNKPdWyoXMrquZ7",
      "include_colab_link": true
    },
    "kernelspec": {
      "name": "python3",
      "display_name": "Python 3"
    },
    "language_info": {
      "name": "python"
    }
  },
  "cells": [
    {
      "cell_type": "markdown",
      "metadata": {
        "id": "view-in-github",
        "colab_type": "text"
      },
      "source": [
        "<a href=\"https://colab.research.google.com/github/SelenayGurbuz/hu-bby162-2021/blob/main/final.ipynb\" target=\"_parent\"><img src=\"https://colab.research.google.com/assets/colab-badge.svg\" alt=\"Open In Colab\"/></a>"
      ]
    },
    {
      "cell_type": "code",
      "metadata": {
        "colab": {
          "base_uri": "https://localhost:8080/"
        },
        "id": "lUdGSQA7ASAu",
        "outputId": "118816cd-e45a-4a73-957d-dba2b3b3034d"
      },
      "source": [
        "dosya = \"/content/drive/MyDrive/Colab Notebooks/HU-BBY162-2021/final.txt\"\n",
        "print(\"Kütüphane otomasyonuna hosgeldiniz\")\n",
        "\n",
        "#Kaynakları Listele Fonksiyonu\n",
        "def kaynaklariListele():\n",
        "  dosyayiAc = open(dosya, \"r\")\n",
        "  for line in dosyayiAc.readlines():\n",
        "    print(line)\n",
        "  dosyayiAc.close()\n",
        "\n",
        "  #Kaynakları Kaydet Fonksiyonu\n",
        "def kaynaklariKaydet():\n",
        "  eserAdi = input(\"Eklenecek bilgi: \")\n",
        "  yazarAdi = input(\"Eklenecek bilgi: \")\n",
        "  yayinevi = input(\"Eklenecek bilgi: \")\n",
        "  basimtarihi = input(\"Eklenecek bilgi: \")\n",
        "  isbnNumarasi = input(\"Eklenecek bilgi: \")\n",
        "\n",
        "  dosyayiAc = open(dosya, 'a') # Mevcut veriye ek veri yazılması için parametre: 'a'\n",
        "  dosyayiAc.write(eserAdi + \" , \" + yazarAdi + \" , \" + yayinevi + \" , \" + basimtarihi + \" , \" + isbnNumarasi +\"\\n\")\n",
        "  dosyayiAc.close()\n",
        "\n",
        "  #Ana döngü\n",
        "while True:\n",
        "  menuSecim = input(\"\\n -------------------------- \\n Yapmak istediginiz islemi seciniz:\\n 1)Kaynak Listele \\n 2)Kaynak Kaydet \\n 3)Çıkış \\n\")\n",
        "\n",
        "  if menuSecim == \"1\":\n",
        "    print(\"Kaynak Listele\")\n",
        "    kaynaklariListele()\n",
        "\n",
        "  elif menuSecim == \"2\":\n",
        "    print(\"Kaynak Kaydet\")\n",
        "    kaynaklariKaydet()\n",
        "\n",
        "  elif menuSecim == \"3\":\n",
        "    print(\"Çıkış Yaptınız\")\n",
        "    break\n",
        "\n",
        "\n"
      ],
      "execution_count": null,
      "outputs": [
        {
          "output_type": "stream",
          "text": [
            "Kütüphane otomasyonuna hosgeldiniz\n",
            "\n",
            " -------------------------- \n",
            " Yapmak istediginiz islemi seciniz:\n",
            " 1)Kaynak Listele \n",
            " 2)Kaynak Kaydet \n",
            " 3)Çıkış \n",
            "1\n",
            "Kaynak Listele\n",
            "Babaya Mektup, Franz Kafka, İndigo Yayınevi, 2018, 9786052361658\n",
            "\n",
            "Çalıkuşu, Reşat Nuri Güntekin, İnkılâp Yayınevi, 2014, 9789751027689\n",
            "\n",
            "Dönüş, Ayşe Kulin, Remzi Kitabevi, 2013, 9789751415622\n",
            "\n",
            "İstanbul Hatırası, Ahmet Ümit, Everest Yayınevi, 2010, 9789752897458\n",
            "\n",
            "Kuyucaklı Yusuf, Sabahattin Ali, Venedik Yayınevi, 2019, 9786052442463\n",
            "\n",
            "\n",
            "\n",
            "\n",
            " -------------------------- \n",
            " Yapmak istediginiz islemi seciniz:\n",
            " 1)Kaynak Listele \n",
            " 2)Kaynak Kaydet \n",
            " 3)Çıkış \n",
            "2\n",
            "Kaynak Kaydet\n",
            "Eklenecek bilgi: Babaya Mektup, Franz Kafka, İndigo Yayınevi, 2018, 9786052361658\n",
            "Eklenecek bilgi: Çalıkuşu, Reşat Nuri Güntekin, İnkılâp Yayınevi, 2014, 9789751027689\n",
            "Eklenecek bilgi: Dönüş, Ayşe Kulin, Remzi Kitabevi, 2013, 9789751415622\n",
            "Eklenecek bilgi: İstanbul Hatırası, Ahmet Ümit, Everest Yayınevi, 2010, 9789752897458\n",
            "Eklenecek bilgi: Kuyucaklı Yusuf, Sabahattin Ali, Venedik Yayınevi, 2019, 9786052442463\n",
            "\n",
            " -------------------------- \n",
            " Yapmak istediginiz islemi seciniz:\n",
            " 1)Kaynak Listele \n",
            " 2)Kaynak Kaydet \n",
            " 3)Çıkış \n",
            "3\n",
            "Çıkış Yaptınız\n"
          ],
          "name": "stdout"
        }
      ]
    }
  ]
}